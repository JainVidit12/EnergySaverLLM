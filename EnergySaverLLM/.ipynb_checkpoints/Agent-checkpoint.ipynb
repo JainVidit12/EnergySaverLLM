{
 "cells": [
  {
   "cell_type": "code",
   "execution_count": 4,
   "id": "99892361",
   "metadata": {},
   "outputs": [
    {
     "name": "stdout",
     "output_type": "stream",
     "text": [
      "AWSCLIV2.pkg        \u001b[34mLibrary\u001b[m\u001b[m/            \u001b[34mPublic\u001b[m\u001b[m/             \u001b[34mopt\u001b[m\u001b[m/\r\n",
      "\u001b[34mApplications\u001b[m\u001b[m/       \u001b[34mMovies\u001b[m\u001b[m/             \u001b[34mapache-maven-3.8.8\u001b[m\u001b[m/ \u001b[34mpsycopg2\u001b[m\u001b[m/\r\n",
      "\u001b[34mDesktop\u001b[m\u001b[m/            \u001b[34mMusic\u001b[m\u001b[m/              get-pip.py\r\n",
      "\u001b[34mDocuments\u001b[m\u001b[m/          \u001b[34mPictures\u001b[m\u001b[m/           kill\r\n",
      "\u001b[34mDownloads\u001b[m\u001b[m/          \u001b[34mPostman\u001b[m\u001b[m/            \u001b[34mnltk_data\u001b[m\u001b[m/\r\n"
     ]
    }
   ],
   "source": []
  },
  {
   "cell_type": "code",
   "execution_count": 1,
   "id": "6cced12f",
   "metadata": {},
   "outputs": [
    {
     "name": "stdout",
     "output_type": "stream",
     "text": [
      "aiohttp==3.8.6\n",
      "aiosignal==1.3.1\n",
      "appnope==0.1.3\n",
      "asttokens==2.4.0\n",
      "async-timeout==4.0.3\n",
      "attrs==23.1.0\n",
      "autogen==1.0.16\n",
      "autopep8==2.0.4\n",
      "backcall==0.2.0\n",
      "certifi==2023.7.22\n",
      "charset-normalizer==3.3.1\n",
      "comm==0.1.4\n",
      "debugpy==1.8.0\n",
      "decorator==5.1.1\n",
      "diskcache==5.6.3\n",
      "docopt==0.6.2\n",
      "docutils==0.20.1\n",
      "exceptiongroup==1.1.3\n",
      "executing==2.0.0\n",
      "FLAML==2.1.1\n",
      "frozenlist==1.4.0\n",
      "gurobipy==10.0.3\n",
      "idna==3.4\n",
      "importlib-metadata==6.8.0\n",
      "ipykernel==6.25.2\n",
      "ipython==8.16.1\n",
      "jaraco.classes==3.3.0\n",
      "jedi==0.19.1\n",
      "jupyter_client==8.4.0\n",
      "jupyter_core==5.4.0\n",
      "keyring==24.2.0\n",
      "markdown-it-py==3.0.0\n",
      "matplotlib-inline==0.1.6\n",
      "mdurl==0.1.2\n",
      "more-itertools==10.1.0\n",
      "multidict==6.0.4\n",
      "nest-asyncio==1.5.8\n",
      "nh3==0.2.14\n",
      "numpy==1.26.1\n",
      "openai==0.28.1\n",
      "packaging==23.2\n",
      "parso==0.8.3\n",
      "pexpect==4.8.0\n",
      "pickleshare==0.7.5\n",
      "pkginfo==1.9.6\n",
      "platformdirs==3.11.0\n",
      "prompt-toolkit==3.0.39\n",
      "psutil==5.9.6\n",
      "ptyprocess==0.7.0\n",
      "pure-eval==0.2.2\n",
      "pyautogen==0.1.13\n",
      "pycodestyle==2.11.1\n",
      "Pygments==2.16.1\n",
      "python-dateutil==2.8.2\n",
      "python-dotenv==1.0.0\n",
      "PyYAML==6.0.1\n",
      "pyzmq==25.1.1\n",
      "readme-renderer==42.0\n",
      "requests==2.31.0\n",
      "requests-toolbelt==1.0.0\n",
      "rfc3986==2.0.0\n",
      "rich==13.6.0\n",
      "six==1.16.0\n",
      "stack-data==0.6.3\n",
      "termcolor==2.3.0\n",
      "tomli==2.0.1\n",
      "tornado==6.3.3\n",
      "tqdm==4.66.1\n",
      "traitlets==5.11.2\n",
      "twine==4.0.2\n",
      "typing_extensions==4.8.0\n",
      "urllib3==2.0.7\n",
      "wcwidth==0.2.8\n",
      "yarl==1.9.2\n",
      "zipp==3.17.0\n",
      "Note: you may need to restart the kernel to use updated packages.\n"
     ]
    }
   ],
   "source": [
    "pip freeze"
   ]
  },
  {
   "cell_type": "code",
   "execution_count": null,
   "id": "87a9a772",
   "metadata": {},
   "outputs": [],
   "source": []
  },
  {
   "cell_type": "code",
   "execution_count": null,
   "id": "085598d7",
   "metadata": {},
   "outputs": [],
   "source": [
    "OAI_CONFIG_LIST = [\n",
    "    {\n",
    "        \"model\": \"gpt-4\",\n",
    "        \"api_key\": \"<your OpenAI API key here>\"\n",
    "    },\n",
    "    {\n",
    "        \"model\": \"gpt-4\",\n",
    "        \"api_key\": \"<your Azure OpenAI API key here>\",\n",
    "        \"api_base\": \"<your Azure OpenAI API base here>\",\n",
    "        \"api_type\": \"azure\",\n",
    "        \"api_version\": \"2023-07-01-preview\"\n",
    "    },\n",
    "    {\n",
    "        \"model\": \"gpt-3.5-turbo\",\n",
    "        \"api_key\": \"<your Azure OpenAI API key here>\",\n",
    "        \"api_base\": \"<your Azure OpenAI API base here>\",\n",
    "        \"api_type\": \"azure\",\n",
    "        \"api_version\": \"2023-07-01-preview\"\n",
    "    }\n",
    "]"
   ]
  },
  {
   "cell_type": "code",
   "execution_count": 2,
   "id": "1cb9a00f",
   "metadata": {},
   "outputs": [
    {
     "name": "stderr",
     "output_type": "stream",
     "text": [
      "/Users/viditjain/Desktop/LLM Optimizer/EnergySaverLLM/EnergySaverLLM/.venv/lib/python3.9/site-packages/urllib3/__init__.py:34: NotOpenSSLWarning: urllib3 v2.0 only supports OpenSSL 1.1.1+, currently the 'ssl' module is compiled with 'LibreSSL 2.8.3'. See: https://github.com/urllib3/urllib3/issues/3020\n",
      "  warnings.warn(\n",
      "WARNING:root:The specified config_list file 'OAI_CONFIG_LIST' does not exist.\n"
     ]
    }
   ],
   "source": [
    "import autogen\n",
    "\n",
    "config_list_gpt4 = autogen.config_list_from_json(\n",
    "    \"OAI_CONFIG_LIST\",\n",
    "    filter_dict={\n",
    "        \"model\": [\"gpt-4\", \"gpt-4-0314\", \"gpt4\", \"gpt-4-32k\", \"gpt-4-32k-0314\", \"gpt-4-32k-v0314\"],\n",
    "    },\n",
    ")"
   ]
  },
  {
   "cell_type": "code",
   "execution_count": null,
   "id": "ebbceda1",
   "metadata": {},
   "outputs": [],
   "source": []
  },
  {
   "cell_type": "code",
   "execution_count": null,
   "id": "2e94b994",
   "metadata": {},
   "outputs": [],
   "source": []
  }
 ],
 "metadata": {
  "kernelspec": {
   "display_name": "EnergySaverLLM",
   "language": "python",
   "name": "energysaverllm"
  },
  "language_info": {
   "codemirror_mode": {
    "name": "ipython",
    "version": 3
   },
   "file_extension": ".py",
   "mimetype": "text/x-python",
   "name": "python",
   "nbconvert_exporter": "python",
   "pygments_lexer": "ipython3",
   "version": "3.9.6"
  }
 },
 "nbformat": 4,
 "nbformat_minor": 5
}
